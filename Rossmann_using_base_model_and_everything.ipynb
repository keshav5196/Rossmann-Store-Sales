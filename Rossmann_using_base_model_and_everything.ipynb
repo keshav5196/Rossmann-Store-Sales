{
  "nbformat": 4,
  "nbformat_minor": 0,
  "metadata": {
    "colab": {
      "name": "Rossmann using base model and everything.ipynb",
      "provenance": [],
      "collapsed_sections": []
    },
    "kernelspec": {
      "name": "python3",
      "display_name": "Python 3"
    }
  },
  "cells": [
    {
      "cell_type": "code",
      "metadata": {
        "id": "TP_BjZ6Q6fN5"
      },
      "source": [
        "import numpy as np\n",
        "import pandas as pd\n",
        "import matplotlib.pyplot as plt\n",
        "import xgboost as xgb\n",
        "import seaborn as sns\n",
        "import json\n",
        "import lightgbm as lgb\n",
        "\n",
        "from pandas import datetime\n",
        "import math\n",
        "import re\n",
        "import time\n",
        "import random\n",
        "import os\n",
        "import pickle\n",
        "import joblib\n",
        "\n",
        "from pandas.tseries.offsets import *\n",
        "from operator import *\n",
        "\n",
        "import warnings \n",
        "warnings.filterwarnings('ignore')\n",
        "\n",
        "from sklearn.preprocessing import OneHotEncoder, LabelEncoder, StandardScaler\n",
        "from sklearn.experimental import enable_iterative_imputer\n",
        "from sklearn.impute import SimpleImputer, IterativeImputer\n",
        "\n",
        "from sklearn.pipeline import FeatureUnion, Pipeline\n",
        "from sklearn.compose import ColumnTransformer\n",
        "\n",
        "from sklearn.model_selection import RandomizedSearchCV, TimeSeriesSplit\n",
        "from sklearn.linear_model import SGDRegressor\n",
        "from sklearn.tree import DecisionTreeRegressor\n",
        "from sklearn.ensemble import RandomForestRegressor\n",
        "from sklearn.metrics import make_scorer\n",
        "\n",
        "from IPython.display import Image\n",
        "\n",
        "from sklearn.svm import SVR\n",
        "from sklearn.model_selection import cross_val_score"
      ],
      "execution_count": null,
      "outputs": []
    },
    {
      "cell_type": "code",
      "metadata": {
        "id": "JZB6C7NXqLN0"
      },
      "source": [
        "seed = 21 #Setting seed.\n",
        "\n",
        "df_train = pd.read_csv('/content/drive/My Drive/Rossmann Sales Forecasting/df_weather_no_zeros', parse_dates=['Date'],\n",
        "                       date_parser=(lambda dt: pd.to_datetime(dt, format='%Y-%m-%d')))\n",
        "\n",
        "df_submit = pd.read_csv('/content/drive/My Drive/Rossmann Sales Forecasting/df_submit_with_weather_no_zeros')"
      ],
      "execution_count": null,
      "outputs": []
    },
    {
      "cell_type": "code",
      "metadata": {
        "id": "PVb_Y_-8htUO",
        "outputId": "ca9c8f52-3b5d-4332-c5f7-bce1e3c224ba",
        "colab": {
          "base_uri": "https://localhost:8080/",
          "height": 425
        }
      },
      "source": [
        "df_train.columns"
      ],
      "execution_count": null,
      "outputs": [
        {
          "output_type": "execute_result",
          "data": {
            "text/plain": [
              "Index(['Store', 'DayOfWeek', 'Date', 'Sales', 'Open', 'Promo', 'StateHoliday',\n",
              "       'SchoolHoliday', 'SalesLog', 'StoreType', 'Assortment',\n",
              "       'CompetitionDistance', 'CompetitionOpenSinceMonth',\n",
              "       'CompetitionOpenSinceYear', 'Promo2', 'Promo2SinceWeek',\n",
              "       'Promo2SinceYear', 'State', 'Year', 'Month', 'Day', 'WeekOfYear',\n",
              "       'DayOfYear', 'holidays_this_week', 'holidays_last_week',\n",
              "       'holidays_next_week', 'State_holiday_before_days',\n",
              "       'State_holiday_after_days', 'Promo_before_days', 'Promo_after_days',\n",
              "       'School_holiday_before_days', 'School_holiday_after_days',\n",
              "       'Dummy_close', 'SalesPerDay', 'Customers_per_day',\n",
              "       'Sales_Per_Customers_Per_Day', 'CompetitionOpen ', 'PromoOpen',\n",
              "       'PromoInterval0', 'PromoInterval1', 'PromoInterval2', 'PromoInterval3',\n",
              "       'Variation', 'Acceleration', 'Weekly_rolling_mean',\n",
              "       'Monthly_rolling_mean', 'Previous_quarter_median',\n",
              "       'Previous_half_year_median', 'Median_over_day_of_week',\n",
              "       'Promo_median_sales', 'Holiday_median_sales', 'Frequency_2',\n",
              "       'Frequency_3', 'Amplitude_2', 'Amplitude_3', 'Max_TemperatureC',\n",
              "       'Mean_TemperatureC', 'Min_TemperatureC', 'Dew_PointC', 'MeanDew_PointC',\n",
              "       'Min_DewpointC', 'Max_Humidity', 'Mean_Humidity', 'Min_Humidity',\n",
              "       'Max_Sea_Level_PressurehPa', 'Mean_Sea_Level_PressurehPa',\n",
              "       'Min_Sea_Level_PressurehPa', 'Max_VisibilityKm', 'Mean_VisibilityKm',\n",
              "       'Min_VisibilitykM', 'Max_Wind_SpeedKm_h', 'Mean_Wind_SpeedKm_h',\n",
              "       'Precipitationmm', 'CloudCover', 'Events', 'WindDirDegrees'],\n",
              "      dtype='object')"
            ]
          },
          "metadata": {
            "tags": []
          },
          "execution_count": 3
        }
      ]
    },
    {
      "cell_type": "code",
      "metadata": {
        "id": "140xqiN3CC5B"
      },
      "source": [
        "#Defining metric.\n",
        "def rmspe(y, yhat):\n",
        "    rmspe = np.sqrt(np.mean(((y - yhat)/y)**2))\n",
        "    return rmspe\n",
        "\n",
        "def rmspe_xg(yhat, y):\n",
        "    # y = y.values\n",
        "    y = y.get_label()\n",
        "    rmspe = np.sqrt(np.mean(((y - yhat)/y)**2))\n",
        "    return \"rmspe\", rmspe\n",
        "\n",
        "scorer = make_scorer(rmspe, greater_is_better=False)"
      ],
      "execution_count": null,
      "outputs": []
    },
    {
      "cell_type": "code",
      "metadata": {
        "id": "Se8O7WxuXbj5",
        "outputId": "4f395dfc-6db7-4908-a76e-ce9b03750d74",
        "colab": {
          "base_uri": "https://localhost:8080/",
          "height": 309
        }
      },
      "source": [
        "df_train.head()"
      ],
      "execution_count": null,
      "outputs": [
        {
          "output_type": "execute_result",
          "data": {
            "text/html": [
              "<div>\n",
              "<style scoped>\n",
              "    .dataframe tbody tr th:only-of-type {\n",
              "        vertical-align: middle;\n",
              "    }\n",
              "\n",
              "    .dataframe tbody tr th {\n",
              "        vertical-align: top;\n",
              "    }\n",
              "\n",
              "    .dataframe thead th {\n",
              "        text-align: right;\n",
              "    }\n",
              "</style>\n",
              "<table border=\"1\" class=\"dataframe\">\n",
              "  <thead>\n",
              "    <tr style=\"text-align: right;\">\n",
              "      <th></th>\n",
              "      <th>Store</th>\n",
              "      <th>DayOfWeek</th>\n",
              "      <th>Date</th>\n",
              "      <th>Sales</th>\n",
              "      <th>Open</th>\n",
              "      <th>Promo</th>\n",
              "      <th>StateHoliday</th>\n",
              "      <th>SchoolHoliday</th>\n",
              "      <th>SalesLog</th>\n",
              "      <th>StoreType</th>\n",
              "      <th>Assortment</th>\n",
              "      <th>CompetitionDistance</th>\n",
              "      <th>CompetitionOpenSinceMonth</th>\n",
              "      <th>CompetitionOpenSinceYear</th>\n",
              "      <th>Promo2</th>\n",
              "      <th>Promo2SinceWeek</th>\n",
              "      <th>Promo2SinceYear</th>\n",
              "      <th>State</th>\n",
              "      <th>Year</th>\n",
              "      <th>Month</th>\n",
              "      <th>Day</th>\n",
              "      <th>WeekOfYear</th>\n",
              "      <th>DayOfYear</th>\n",
              "      <th>holidays_this_week</th>\n",
              "      <th>holidays_last_week</th>\n",
              "      <th>holidays_next_week</th>\n",
              "      <th>State_holiday_before_days</th>\n",
              "      <th>State_holiday_after_days</th>\n",
              "      <th>Promo_before_days</th>\n",
              "      <th>Promo_after_days</th>\n",
              "      <th>School_holiday_before_days</th>\n",
              "      <th>School_holiday_after_days</th>\n",
              "      <th>Dummy_close</th>\n",
              "      <th>SalesPerDay</th>\n",
              "      <th>Customers_per_day</th>\n",
              "      <th>Sales_Per_Customers_Per_Day</th>\n",
              "      <th>CompetitionOpen</th>\n",
              "      <th>PromoOpen</th>\n",
              "      <th>PromoInterval0</th>\n",
              "      <th>PromoInterval1</th>\n",
              "      <th>PromoInterval2</th>\n",
              "      <th>PromoInterval3</th>\n",
              "      <th>Variation</th>\n",
              "      <th>Acceleration</th>\n",
              "      <th>Weekly_rolling_mean</th>\n",
              "      <th>Monthly_rolling_mean</th>\n",
              "      <th>Previous_quarter_median</th>\n",
              "      <th>Previous_half_year_median</th>\n",
              "      <th>Median_over_day_of_week</th>\n",
              "      <th>Promo_median_sales</th>\n",
              "      <th>Holiday_median_sales</th>\n",
              "      <th>Frequency_2</th>\n",
              "      <th>Frequency_3</th>\n",
              "      <th>Amplitude_2</th>\n",
              "      <th>Amplitude_3</th>\n",
              "      <th>Max_TemperatureC</th>\n",
              "      <th>Mean_TemperatureC</th>\n",
              "      <th>Min_TemperatureC</th>\n",
              "      <th>Dew_PointC</th>\n",
              "      <th>MeanDew_PointC</th>\n",
              "      <th>Min_DewpointC</th>\n",
              "      <th>Max_Humidity</th>\n",
              "      <th>Mean_Humidity</th>\n",
              "      <th>Min_Humidity</th>\n",
              "      <th>Max_Sea_Level_PressurehPa</th>\n",
              "      <th>Mean_Sea_Level_PressurehPa</th>\n",
              "      <th>Min_Sea_Level_PressurehPa</th>\n",
              "      <th>Max_VisibilityKm</th>\n",
              "      <th>Mean_VisibilityKm</th>\n",
              "      <th>Min_VisibilitykM</th>\n",
              "      <th>Max_Wind_SpeedKm_h</th>\n",
              "      <th>Mean_Wind_SpeedKm_h</th>\n",
              "      <th>Precipitationmm</th>\n",
              "      <th>CloudCover</th>\n",
              "      <th>Events</th>\n",
              "      <th>WindDirDegrees</th>\n",
              "    </tr>\n",
              "  </thead>\n",
              "  <tbody>\n",
              "    <tr>\n",
              "      <th>0</th>\n",
              "      <td>353</td>\n",
              "      <td>2</td>\n",
              "      <td>2013-01-01</td>\n",
              "      <td>3139</td>\n",
              "      <td>1</td>\n",
              "      <td>0</td>\n",
              "      <td>a</td>\n",
              "      <td>1</td>\n",
              "      <td>8.051978</td>\n",
              "      <td>b</td>\n",
              "      <td>b</td>\n",
              "      <td>900.0</td>\n",
              "      <td>NaN</td>\n",
              "      <td>NaN</td>\n",
              "      <td>1</td>\n",
              "      <td>14.0</td>\n",
              "      <td>2013.0</td>\n",
              "      <td>BW</td>\n",
              "      <td>2013</td>\n",
              "      <td>1</td>\n",
              "      <td>1</td>\n",
              "      <td>1</td>\n",
              "      <td>1</td>\n",
              "      <td>0</td>\n",
              "      <td>NaN</td>\n",
              "      <td>0.0</td>\n",
              "      <td>0</td>\n",
              "      <td>0</td>\n",
              "      <td>6</td>\n",
              "      <td>0</td>\n",
              "      <td>0</td>\n",
              "      <td>0</td>\n",
              "      <td>-1</td>\n",
              "      <td>5651.368817</td>\n",
              "      <td>1451.086022</td>\n",
              "      <td>3.894579</td>\n",
              "      <td>NaN</td>\n",
              "      <td>-3.25</td>\n",
              "      <td>2.0</td>\n",
              "      <td>5.0</td>\n",
              "      <td>8.0</td>\n",
              "      <td>11.0</td>\n",
              "      <td>NaN</td>\n",
              "      <td>NaN</td>\n",
              "      <td>NaN</td>\n",
              "      <td>NaN</td>\n",
              "      <td>NaN</td>\n",
              "      <td>NaN</td>\n",
              "      <td>5514.0</td>\n",
              "      <td>5805.5</td>\n",
              "      <td>5805.5</td>\n",
              "      <td>-0.001082</td>\n",
              "      <td>0.428571</td>\n",
              "      <td>362259.254095</td>\n",
              "      <td>272789.258298</td>\n",
              "      <td>8</td>\n",
              "      <td>3</td>\n",
              "      <td>-2</td>\n",
              "      <td>3</td>\n",
              "      <td>1</td>\n",
              "      <td>-3</td>\n",
              "      <td>93</td>\n",
              "      <td>80</td>\n",
              "      <td>51</td>\n",
              "      <td>1016</td>\n",
              "      <td>1011</td>\n",
              "      <td>1008</td>\n",
              "      <td>31.0</td>\n",
              "      <td>12.0</td>\n",
              "      <td>10.0</td>\n",
              "      <td>23</td>\n",
              "      <td>6</td>\n",
              "      <td>0.25</td>\n",
              "      <td>6.0</td>\n",
              "      <td>Fog-Rain</td>\n",
              "      <td>228</td>\n",
              "    </tr>\n",
              "    <tr>\n",
              "      <th>1</th>\n",
              "      <td>423</td>\n",
              "      <td>2</td>\n",
              "      <td>2013-01-01</td>\n",
              "      <td>9643</td>\n",
              "      <td>1</td>\n",
              "      <td>0</td>\n",
              "      <td>a</td>\n",
              "      <td>1</td>\n",
              "      <td>9.174091</td>\n",
              "      <td>b</td>\n",
              "      <td>a</td>\n",
              "      <td>1270.0</td>\n",
              "      <td>5.0</td>\n",
              "      <td>2014.0</td>\n",
              "      <td>0</td>\n",
              "      <td>NaN</td>\n",
              "      <td>NaN</td>\n",
              "      <td>BE</td>\n",
              "      <td>2013</td>\n",
              "      <td>1</td>\n",
              "      <td>1</td>\n",
              "      <td>1</td>\n",
              "      <td>1</td>\n",
              "      <td>0</td>\n",
              "      <td>NaN</td>\n",
              "      <td>0.0</td>\n",
              "      <td>0</td>\n",
              "      <td>0</td>\n",
              "      <td>6</td>\n",
              "      <td>0</td>\n",
              "      <td>0</td>\n",
              "      <td>0</td>\n",
              "      <td>-1</td>\n",
              "      <td>10828.403397</td>\n",
              "      <td>1886.130573</td>\n",
              "      <td>5.741068</td>\n",
              "      <td>-16.0</td>\n",
              "      <td>NaN</td>\n",
              "      <td>NaN</td>\n",
              "      <td>NaN</td>\n",
              "      <td>NaN</td>\n",
              "      <td>NaN</td>\n",
              "      <td>NaN</td>\n",
              "      <td>NaN</td>\n",
              "      <td>NaN</td>\n",
              "      <td>NaN</td>\n",
              "      <td>NaN</td>\n",
              "      <td>NaN</td>\n",
              "      <td>10195.0</td>\n",
              "      <td>11338.0</td>\n",
              "      <td>11338.0</td>\n",
              "      <td>-0.429487</td>\n",
              "      <td>0.286325</td>\n",
              "      <td>391277.072069</td>\n",
              "      <td>371198.715249</td>\n",
              "      <td>8</td>\n",
              "      <td>7</td>\n",
              "      <td>5</td>\n",
              "      <td>6</td>\n",
              "      <td>3</td>\n",
              "      <td>2</td>\n",
              "      <td>100</td>\n",
              "      <td>78</td>\n",
              "      <td>62</td>\n",
              "      <td>1009</td>\n",
              "      <td>1004</td>\n",
              "      <td>1003</td>\n",
              "      <td>31.0</td>\n",
              "      <td>14.0</td>\n",
              "      <td>10.0</td>\n",
              "      <td>26</td>\n",
              "      <td>18</td>\n",
              "      <td>0.76</td>\n",
              "      <td>6.0</td>\n",
              "      <td>Rain</td>\n",
              "      <td>216</td>\n",
              "    </tr>\n",
              "    <tr>\n",
              "      <th>2</th>\n",
              "      <td>948</td>\n",
              "      <td>2</td>\n",
              "      <td>2013-01-01</td>\n",
              "      <td>4491</td>\n",
              "      <td>1</td>\n",
              "      <td>0</td>\n",
              "      <td>a</td>\n",
              "      <td>1</td>\n",
              "      <td>8.410053</td>\n",
              "      <td>b</td>\n",
              "      <td>b</td>\n",
              "      <td>1430.0</td>\n",
              "      <td>NaN</td>\n",
              "      <td>NaN</td>\n",
              "      <td>0</td>\n",
              "      <td>NaN</td>\n",
              "      <td>NaN</td>\n",
              "      <td>BW</td>\n",
              "      <td>2013</td>\n",
              "      <td>1</td>\n",
              "      <td>1</td>\n",
              "      <td>1</td>\n",
              "      <td>1</td>\n",
              "      <td>0</td>\n",
              "      <td>NaN</td>\n",
              "      <td>0.0</td>\n",
              "      <td>0</td>\n",
              "      <td>0</td>\n",
              "      <td>6</td>\n",
              "      <td>0</td>\n",
              "      <td>0</td>\n",
              "      <td>0</td>\n",
              "      <td>-1</td>\n",
              "      <td>6944.243797</td>\n",
              "      <td>1714.269687</td>\n",
              "      <td>4.050847</td>\n",
              "      <td>NaN</td>\n",
              "      <td>NaN</td>\n",
              "      <td>NaN</td>\n",
              "      <td>NaN</td>\n",
              "      <td>NaN</td>\n",
              "      <td>NaN</td>\n",
              "      <td>NaN</td>\n",
              "      <td>NaN</td>\n",
              "      <td>NaN</td>\n",
              "      <td>NaN</td>\n",
              "      <td>NaN</td>\n",
              "      <td>NaN</td>\n",
              "      <td>6523.0</td>\n",
              "      <td>7069.0</td>\n",
              "      <td>7069.0</td>\n",
              "      <td>-0.001089</td>\n",
              "      <td>0.005447</td>\n",
              "      <td>388730.629793</td>\n",
              "      <td>316539.642562</td>\n",
              "      <td>8</td>\n",
              "      <td>3</td>\n",
              "      <td>-2</td>\n",
              "      <td>3</td>\n",
              "      <td>1</td>\n",
              "      <td>-3</td>\n",
              "      <td>93</td>\n",
              "      <td>80</td>\n",
              "      <td>51</td>\n",
              "      <td>1016</td>\n",
              "      <td>1011</td>\n",
              "      <td>1008</td>\n",
              "      <td>31.0</td>\n",
              "      <td>12.0</td>\n",
              "      <td>10.0</td>\n",
              "      <td>23</td>\n",
              "      <td>6</td>\n",
              "      <td>0.25</td>\n",
              "      <td>6.0</td>\n",
              "      <td>Fog-Rain</td>\n",
              "      <td>228</td>\n",
              "    </tr>\n",
              "    <tr>\n",
              "      <th>3</th>\n",
              "      <td>274</td>\n",
              "      <td>2</td>\n",
              "      <td>2013-01-01</td>\n",
              "      <td>3102</td>\n",
              "      <td>1</td>\n",
              "      <td>0</td>\n",
              "      <td>a</td>\n",
              "      <td>1</td>\n",
              "      <td>8.040125</td>\n",
              "      <td>b</td>\n",
              "      <td>b</td>\n",
              "      <td>3640.0</td>\n",
              "      <td>NaN</td>\n",
              "      <td>NaN</td>\n",
              "      <td>1</td>\n",
              "      <td>10.0</td>\n",
              "      <td>2013.0</td>\n",
              "      <td>HE</td>\n",
              "      <td>2013</td>\n",
              "      <td>1</td>\n",
              "      <td>1</td>\n",
              "      <td>1</td>\n",
              "      <td>1</td>\n",
              "      <td>0</td>\n",
              "      <td>NaN</td>\n",
              "      <td>0.0</td>\n",
              "      <td>0</td>\n",
              "      <td>0</td>\n",
              "      <td>6</td>\n",
              "      <td>0</td>\n",
              "      <td>0</td>\n",
              "      <td>0</td>\n",
              "      <td>-1</td>\n",
              "      <td>4070.828326</td>\n",
              "      <td>992.741416</td>\n",
              "      <td>4.100593</td>\n",
              "      <td>NaN</td>\n",
              "      <td>-2.25</td>\n",
              "      <td>1.0</td>\n",
              "      <td>4.0</td>\n",
              "      <td>7.0</td>\n",
              "      <td>10.0</td>\n",
              "      <td>NaN</td>\n",
              "      <td>NaN</td>\n",
              "      <td>NaN</td>\n",
              "      <td>NaN</td>\n",
              "      <td>NaN</td>\n",
              "      <td>NaN</td>\n",
              "      <td>3339.0</td>\n",
              "      <td>3678.5</td>\n",
              "      <td>3678.5</td>\n",
              "      <td>-0.006039</td>\n",
              "      <td>0.150966</td>\n",
              "      <td>114251.813759</td>\n",
              "      <td>84539.855512</td>\n",
              "      <td>8</td>\n",
              "      <td>6</td>\n",
              "      <td>3</td>\n",
              "      <td>6</td>\n",
              "      <td>3</td>\n",
              "      <td>1</td>\n",
              "      <td>93</td>\n",
              "      <td>80</td>\n",
              "      <td>59</td>\n",
              "      <td>1015</td>\n",
              "      <td>1008</td>\n",
              "      <td>1006</td>\n",
              "      <td>31.0</td>\n",
              "      <td>12.0</td>\n",
              "      <td>10.0</td>\n",
              "      <td>23</td>\n",
              "      <td>14</td>\n",
              "      <td>2.03</td>\n",
              "      <td>6.0</td>\n",
              "      <td>Rain</td>\n",
              "      <td>206</td>\n",
              "    </tr>\n",
              "    <tr>\n",
              "      <th>4</th>\n",
              "      <td>1097</td>\n",
              "      <td>2</td>\n",
              "      <td>2013-01-01</td>\n",
              "      <td>5961</td>\n",
              "      <td>1</td>\n",
              "      <td>0</td>\n",
              "      <td>a</td>\n",
              "      <td>1</td>\n",
              "      <td>8.693161</td>\n",
              "      <td>b</td>\n",
              "      <td>b</td>\n",
              "      <td>720.0</td>\n",
              "      <td>3.0</td>\n",
              "      <td>2002.0</td>\n",
              "      <td>0</td>\n",
              "      <td>NaN</td>\n",
              "      <td>NaN</td>\n",
              "      <td>RP</td>\n",
              "      <td>2013</td>\n",
              "      <td>1</td>\n",
              "      <td>1</td>\n",
              "      <td>1</td>\n",
              "      <td>1</td>\n",
              "      <td>0</td>\n",
              "      <td>NaN</td>\n",
              "      <td>0.0</td>\n",
              "      <td>0</td>\n",
              "      <td>0</td>\n",
              "      <td>6</td>\n",
              "      <td>0</td>\n",
              "      <td>0</td>\n",
              "      <td>0</td>\n",
              "      <td>-1</td>\n",
              "      <td>9744.599788</td>\n",
              "      <td>2420.921444</td>\n",
              "      <td>4.025161</td>\n",
              "      <td>130.0</td>\n",
              "      <td>NaN</td>\n",
              "      <td>NaN</td>\n",
              "      <td>NaN</td>\n",
              "      <td>NaN</td>\n",
              "      <td>NaN</td>\n",
              "      <td>NaN</td>\n",
              "      <td>NaN</td>\n",
              "      <td>NaN</td>\n",
              "      <td>NaN</td>\n",
              "      <td>NaN</td>\n",
              "      <td>NaN</td>\n",
              "      <td>9443.0</td>\n",
              "      <td>10222.0</td>\n",
              "      <td>10222.0</td>\n",
              "      <td>0.005353</td>\n",
              "      <td>-0.001071</td>\n",
              "      <td>305651.203930</td>\n",
              "      <td>276546.292577</td>\n",
              "      <td>8</td>\n",
              "      <td>6</td>\n",
              "      <td>4</td>\n",
              "      <td>7</td>\n",
              "      <td>3</td>\n",
              "      <td>1</td>\n",
              "      <td>92</td>\n",
              "      <td>75</td>\n",
              "      <td>59</td>\n",
              "      <td>1015</td>\n",
              "      <td>1010</td>\n",
              "      <td>1008</td>\n",
              "      <td>31.0</td>\n",
              "      <td>19.0</td>\n",
              "      <td>5.0</td>\n",
              "      <td>26</td>\n",
              "      <td>19</td>\n",
              "      <td>0.25</td>\n",
              "      <td>8.0</td>\n",
              "      <td>Rain</td>\n",
              "      <td>-1</td>\n",
              "    </tr>\n",
              "  </tbody>\n",
              "</table>\n",
              "</div>"
            ],
            "text/plain": [
              "   Store  DayOfWeek       Date  ...  CloudCover    Events  WindDirDegrees\n",
              "0    353          2 2013-01-01  ...         6.0  Fog-Rain             228\n",
              "1    423          2 2013-01-01  ...         6.0      Rain             216\n",
              "2    948          2 2013-01-01  ...         6.0  Fog-Rain             228\n",
              "3    274          2 2013-01-01  ...         6.0      Rain             206\n",
              "4   1097          2 2013-01-01  ...         8.0      Rain              -1\n",
              "\n",
              "[5 rows x 76 columns]"
            ]
          },
          "metadata": {
            "tags": []
          },
          "execution_count": 5
        }
      ]
    },
    {
      "cell_type": "code",
      "metadata": {
        "id": "A4IA2f3kYX-V"
      },
      "source": [
        "df_train.sort_values('Date', inplace=True)"
      ],
      "execution_count": null,
      "outputs": []
    },
    {
      "cell_type": "markdown",
      "metadata": {
        "id": "3Qc0EUMJt-Nj"
      },
      "source": [
        "# Preprocessing Data."
      ]
    },
    {
      "cell_type": "markdown",
      "metadata": {
        "id": "u8qMH2UN8S3R"
      },
      "source": [
        "*Note: Some collinear features are kept to understand their effect on models."
      ]
    },
    {
      "cell_type": "code",
      "metadata": {
        "id": "hrnoHHQ7t-Nl"
      },
      "source": [
        "#Removing some features based on VIF analysis done in feature engineering notebook.\n",
        "df_1 = df_train.drop(['Date'], axis=1)"
      ],
      "execution_count": null,
      "outputs": []
    },
    {
      "cell_type": "code",
      "metadata": {
        "id": "VQzIjU4UkyR4"
      },
      "source": [
        "df_submit = df_submit.rename(columns={'Sales_per_day':'SalesPerDay'})"
      ],
      "execution_count": null,
      "outputs": []
    },
    {
      "cell_type": "code",
      "metadata": {
        "id": "LreyNShUuYcM",
        "outputId": "1c4969f0-12f3-40aa-802d-eb62eeed5e0f",
        "colab": {
          "base_uri": "https://localhost:8080/",
          "height": 51
        }
      },
      "source": [
        "for i in df_submit.columns:\n",
        "    if i not in df_1.columns:\n",
        "        print(i)"
      ],
      "execution_count": null,
      "outputs": [
        {
          "output_type": "stream",
          "text": [
            "Id\n",
            "Max_Gust_SpeedKm_h\n"
          ],
          "name": "stdout"
        }
      ]
    },
    {
      "cell_type": "code",
      "metadata": {
        "id": "1XWsd33IQsK0",
        "outputId": "2436f134-2ed7-40ec-acb5-cd4ea1da9c4f",
        "colab": {
          "base_uri": "https://localhost:8080/",
          "height": 102
        }
      },
      "source": [
        "for i in df_1.columns:\n",
        "    if i not in df_submit.columns:\n",
        "        print(i)"
      ],
      "execution_count": null,
      "outputs": [
        {
          "output_type": "stream",
          "text": [
            "Sales\n",
            "SalesLog\n",
            "Monthly_rolling_mean\n",
            "Promo_median_sales\n",
            "Holiday_median_sales\n"
          ],
          "name": "stdout"
        }
      ]
    },
    {
      "cell_type": "code",
      "metadata": {
        "id": "VB9TDKJ-t-Np"
      },
      "source": [
        "df_submit.drop(['Max_Gust_SpeedKm_h'], axis=1, inplace=True)\n",
        "df_1.drop(['Monthly_rolling_mean','Promo_median_sales','Holiday_median_sales'], axis=1, inplace=True)"
      ],
      "execution_count": null,
      "outputs": []
    },
    {
      "cell_type": "code",
      "metadata": {
        "id": "xK4toC1ft-Ns"
      },
      "source": [
        "df_1[['Promo2SinceWeek','Promo2SinceYear','PromoInterval0','PromoInterval1','PromoInterval2','PromoInterval3','PromoOpen']] = df_1[['Promo2SinceWeek','Promo2SinceYear','PromoInterval0','PromoInterval1','PromoInterval2','PromoInterval3','PromoOpen']].fillna(-1)\n",
        "\n",
        "df_submit[['Promo2SinceWeek','Promo2SinceYear','PromoInterval0','PromoInterval1','PromoInterval2','PromoInterval3','PromoOpen']] = df_submit[['Promo2SinceWeek','Promo2SinceYear','PromoInterval0','PromoInterval1','PromoInterval2','PromoInterval3','PromoOpen']].fillna(-1)"
      ],
      "execution_count": null,
      "outputs": []
    },
    {
      "cell_type": "code",
      "metadata": {
        "id": "r3mtQ3_vt-Nv"
      },
      "source": [
        "df_1['StateHoliday'].replace(0, '0', inplace=True)\n",
        "df_submit['StateHoliday'].replace(0, '0', inplace=True)"
      ],
      "execution_count": null,
      "outputs": []
    },
    {
      "cell_type": "code",
      "metadata": {
        "id": "UulEaQ6tt-Ny"
      },
      "source": [
        "X = df_1.drop(['SalesLog','Sales'], axis=1)\n",
        "y = df_1['Sales']"
      ],
      "execution_count": null,
      "outputs": []
    },
    {
      "cell_type": "code",
      "metadata": {
        "id": "GObMFvvqRciR"
      },
      "source": [
        "X.drop(['Open'], axis=1, inplace=True)"
      ],
      "execution_count": null,
      "outputs": []
    },
    {
      "cell_type": "code",
      "metadata": {
        "id": "22ozMfPJt-N4"
      },
      "source": [
        "#Some Test ids where Open will be equal to zero.\n",
        "b = [480, 1336, 2192, 3048, 4760, 5616, 6472, 7328, 8184, 9040, 10752]\n",
        "#Saving Ids for further use.\n",
        "ids = df_submit['Id'].values\n",
        "#Saving test ids where store were closed.\n",
        "closed_test_ids = df_submit.loc[df_submit['Open']==0]['Id']\n",
        "#Dropping column Id as it is not in training data.\n",
        "df_submit.drop(['Id','Open'], axis=1, inplace=True)"
      ],
      "execution_count": null,
      "outputs": []
    },
    {
      "cell_type": "code",
      "metadata": {
        "id": "oLKiAYHot-OK",
        "outputId": "0aab6fad-7840-4203-b268-7e7086509ff1",
        "colab": {
          "base_uri": "https://localhost:8080/",
          "height": 34
        }
      },
      "source": [
        "df_submit.shape"
      ],
      "execution_count": null,
      "outputs": [
        {
          "output_type": "execute_result",
          "data": {
            "text/plain": [
              "(41088, 69)"
            ]
          },
          "metadata": {
            "tags": []
          },
          "execution_count": 17
        }
      ]
    },
    {
      "cell_type": "markdown",
      "metadata": {
        "id": "4gtcgcnW84zh"
      },
      "source": [
        "# Creating baseline model with basic features only for Forward Feature Selection."
      ]
    },
    {
      "cell_type": "markdown",
      "metadata": {
        "id": "6aKERlbf9P3_"
      },
      "source": [
        "In this section I create a model for checking the performance without using any new features."
      ]
    },
    {
      "cell_type": "code",
      "metadata": {
        "id": "vgaGOjFr84zn"
      },
      "source": [
        "base_X = X[['Store', 'DayOfWeek', 'Promo','StateHoliday', 'SchoolHoliday','StoreType', 'Assortment', 'CompetitionDistance',\n",
        "            'CompetitionOpenSinceMonth', 'CompetitionOpenSinceYear', 'Promo2', 'Promo2SinceWeek', 'Promo2SinceYear', 'Year',\n",
        "            'Month', 'Day', 'WeekOfYear', 'DayOfYear',  'SalesPerDay', 'Customers_per_day', 'Sales_Per_Customers_Per_Day', \n",
        "            'PromoInterval0', 'PromoInterval1', 'PromoInterval2', 'PromoInterval3']]\n",
        "\n",
        "y = df_1['Sales']"
      ],
      "execution_count": null,
      "outputs": []
    },
    {
      "cell_type": "code",
      "metadata": {
        "id": "gjxyULMS84zs"
      },
      "source": [
        "base_df = pd.concat([base_X,y], axis=1)"
      ],
      "execution_count": null,
      "outputs": []
    },
    {
      "cell_type": "code",
      "metadata": {
        "id": "VxBzHpBP84zv"
      },
      "source": [
        "base_submit = df_submit[['Store', 'DayOfWeek', 'Promo','StateHoliday', 'SchoolHoliday','StoreType', 'Assortment', 'CompetitionDistance',\n",
        "            'CompetitionOpenSinceMonth', 'CompetitionOpenSinceYear', 'Promo2', 'Promo2SinceWeek', 'Promo2SinceYear', 'Year',\n",
        "            'Month', 'Day', 'WeekOfYear', 'DayOfYear',  'SalesPerDay', 'Customers_per_day', 'Sales_Per_Customers_Per_Day', \n",
        "            'PromoInterval0', 'PromoInterval1', 'PromoInterval2', 'PromoInterval3']]"
      ],
      "execution_count": null,
      "outputs": []
    },
    {
      "cell_type": "code",
      "metadata": {
        "id": "UTbhjdHX84zy"
      },
      "source": [
        "cat_cols = ['StoreType','Assortment','StateHoliday','DayOfWeek','Promo','Year','Promo2']\n",
        "num_cols = [i for i in base_X.columns if i not in cat_cols]\n",
        "\n",
        "num_transformer = Pipeline(steps = [('imp', IterativeImputer(initial_strategy='median')),\n",
        "                                    ('scaler', StandardScaler())])\n",
        "\n",
        "cat_transformer = Pipeline(steps = [('imp', SimpleImputer(strategy='most_frequent')),\n",
        "                                    ('onehot', OneHotEncoder(handle_unknown='ignore'))])\n",
        "\n",
        "preprocessor = ColumnTransformer(transformers=[('num', num_transformer,num_cols),\n",
        "                                               ('cat',cat_transformer,cat_cols)])                                    "
      ],
      "execution_count": null,
      "outputs": []
    },
    {
      "cell_type": "code",
      "metadata": {
        "id": "39AWnrDj84z1",
        "outputId": "c097eb90-f739-4c9e-c91b-7fabbc66da55",
        "colab": {
          "base_uri": "https://localhost:8080/",
          "height": 561
        }
      },
      "source": [
        "preprocessor.fit(base_X)\n",
        "# pickle.dump(preprocessor, open('/content/drive/My Drive/Rossmann Sales Forecasting/preprocessor_base.pkl','wb'))"
      ],
      "execution_count": null,
      "outputs": [
        {
          "output_type": "execute_result",
          "data": {
            "text/plain": [
              "ColumnTransformer(n_jobs=None, remainder='drop', sparse_threshold=0.3,\n",
              "                  transformer_weights=None,\n",
              "                  transformers=[('num',\n",
              "                                 Pipeline(memory=None,\n",
              "                                          steps=[('imp',\n",
              "                                                  IterativeImputer(add_indicator=False,\n",
              "                                                                   estimator=None,\n",
              "                                                                   imputation_order='ascending',\n",
              "                                                                   initial_strategy='median',\n",
              "                                                                   max_iter=10,\n",
              "                                                                   max_value=None,\n",
              "                                                                   min_value=None,\n",
              "                                                                   missing_values=nan,\n",
              "                                                                   n_nearest_features=None,\n",
              "                                                                   random_st...\n",
              "                                          steps=[('imp',\n",
              "                                                  SimpleImputer(add_indicator=False,\n",
              "                                                                copy=True,\n",
              "                                                                fill_value=None,\n",
              "                                                                missing_values=nan,\n",
              "                                                                strategy='most_frequent',\n",
              "                                                                verbose=0)),\n",
              "                                                 ('onehot',\n",
              "                                                  OneHotEncoder(categories='auto',\n",
              "                                                                drop=None,\n",
              "                                                                dtype=<class 'numpy.float64'>,\n",
              "                                                                handle_unknown='ignore',\n",
              "                                                                sparse=True))],\n",
              "                                          verbose=False),\n",
              "                                 ['StoreType', 'Assortment', 'StateHoliday',\n",
              "                                  'DayOfWeek', 'Promo', 'Year', 'Promo2'])],\n",
              "                  verbose=False)"
            ]
          },
          "metadata": {
            "tags": []
          },
          "execution_count": 36
        }
      ]
    },
    {
      "cell_type": "code",
      "metadata": {
        "id": "iKRHQeUo84z4"
      },
      "source": [
        "# preprocessor = pickle.load(open('/content/drive/My Drive/Rossmann Sales Forecasting/preprocessor_base.pkl','rb'))"
      ],
      "execution_count": null,
      "outputs": []
    },
    {
      "cell_type": "code",
      "metadata": {
        "id": "YEzcqoVn84z7"
      },
      "source": [
        "X_transformed = preprocessor.transform(base_X)\n",
        "x_submit = preprocessor.transform(base_submit)"
      ],
      "execution_count": null,
      "outputs": []
    },
    {
      "cell_type": "code",
      "metadata": {
        "id": "3LxDm7_884z_"
      },
      "source": [
        "from sklearn.model_selection import train_test_split"
      ],
      "execution_count": null,
      "outputs": []
    },
    {
      "cell_type": "code",
      "metadata": {
        "id": "KAxHs4dH840C"
      },
      "source": [
        "X_train, X_test, y_train, y_test = train_test_split(X_transformed, y, shuffle=False, random_state=21, test_size=0.2)"
      ],
      "execution_count": null,
      "outputs": []
    },
    {
      "cell_type": "code",
      "metadata": {
        "id": "25mLZmiH840E",
        "outputId": "1901e4ff-e613-41b2-ea62-f25aeee3f1e9",
        "colab": {
          "base_uri": "https://localhost:8080/",
          "height": 136
        }
      },
      "source": [
        "from sklearn.ensemble import RandomForestRegressor\n",
        "\n",
        "model = RandomForestRegressor(max_depth=20,n_jobs=-1, random_state=21)\n",
        "model.fit(X_train, y_train)"
      ],
      "execution_count": null,
      "outputs": [
        {
          "output_type": "execute_result",
          "data": {
            "text/plain": [
              "RandomForestRegressor(bootstrap=True, ccp_alpha=0.0, criterion='mse',\n",
              "                      max_depth=20, max_features='auto', max_leaf_nodes=None,\n",
              "                      max_samples=None, min_impurity_decrease=0.0,\n",
              "                      min_impurity_split=None, min_samples_leaf=1,\n",
              "                      min_samples_split=2, min_weight_fraction_leaf=0.0,\n",
              "                      n_estimators=100, n_jobs=-1, oob_score=False,\n",
              "                      random_state=21, verbose=0, warm_start=False)"
            ]
          },
          "metadata": {
            "tags": []
          },
          "execution_count": 41
        }
      ]
    },
    {
      "cell_type": "code",
      "metadata": {
        "id": "zMkl3jCh840H",
        "outputId": "be78ce49-1943-468a-d946-7f1470bb1552",
        "colab": {
          "base_uri": "https://localhost:8080/",
          "height": 34
        }
      },
      "source": [
        "train_preds = model.predict(X_train)\n",
        "rmspe(y_train,train_preds)"
      ],
      "execution_count": null,
      "outputs": [
        {
          "output_type": "execute_result",
          "data": {
            "text/plain": [
              "0.1051288056638325"
            ]
          },
          "metadata": {
            "tags": []
          },
          "execution_count": 42
        }
      ]
    },
    {
      "cell_type": "code",
      "metadata": {
        "id": "-xHFK49t840K",
        "outputId": "4ce92b84-d104-42b2-c87e-2b77c19d8f49",
        "colab": {
          "base_uri": "https://localhost:8080/",
          "height": 34
        }
      },
      "source": [
        "preds = model.predict(X_test)\n",
        "rmspe(y_test, preds)"
      ],
      "execution_count": null,
      "outputs": [
        {
          "output_type": "execute_result",
          "data": {
            "text/plain": [
              "0.1804904850351302"
            ]
          },
          "metadata": {
            "tags": []
          },
          "execution_count": 43
        }
      ]
    },
    {
      "cell_type": "code",
      "metadata": {
        "id": "C_Dyz2HY840O",
        "outputId": "d1e7887e-2b03-4b8f-b38a-8bf0954fd68b",
        "colab": {
          "base_uri": "https://localhost:8080/",
          "height": 136
        }
      },
      "source": [
        "model.fit(X_transformed, y)"
      ],
      "execution_count": null,
      "outputs": [
        {
          "output_type": "execute_result",
          "data": {
            "text/plain": [
              "RandomForestRegressor(bootstrap=True, ccp_alpha=0.0, criterion='mse',\n",
              "                      max_depth=20, max_features='auto', max_leaf_nodes=None,\n",
              "                      max_samples=None, min_impurity_decrease=0.0,\n",
              "                      min_impurity_split=None, min_samples_leaf=1,\n",
              "                      min_samples_split=2, min_weight_fraction_leaf=0.0,\n",
              "                      n_estimators=100, n_jobs=-1, oob_score=False,\n",
              "                      random_state=21, verbose=0, warm_start=False)"
            ]
          },
          "metadata": {
            "tags": []
          },
          "execution_count": 44
        }
      ]
    },
    {
      "cell_type": "code",
      "metadata": {
        "id": "ogXSv8gH840R"
      },
      "source": [
        "preds = model.predict(x_submit)"
      ],
      "execution_count": null,
      "outputs": []
    },
    {
      "cell_type": "code",
      "metadata": {
        "id": "iEHfvzqu840V"
      },
      "source": [
        "#Defining a new dataframe to contain the predictions according to the IDs.\n",
        "df_ypred = pd.DataFrame()\n",
        "df_ypred['Id'] = ids\n",
        "\n",
        "# Scale back the log of sales to sales.\n",
        "df_ypred['Sales'] = preds  # 0.983 is a correction factor.\n",
        "\n",
        "for i in range(len(df_ypred)):\n",
        "\n",
        "    id = df_ypred.iloc[i]['Id']\n",
        "    if id in closed_test_ids or b:\n",
        "        df_ypred.iloc[i]['Sales'] = 0\n",
        "    else:\n",
        "        continue\n",
        "\n",
        "#Sorting values according to ID\n",
        "df_ypred.sort_values('Id', inplace=True)\n",
        "df_ypred[['Id', 'Sales']].to_csv('rossmann_base_RF_with_freq.csv', index=False)"
      ],
      "execution_count": null,
      "outputs": []
    },
    {
      "cell_type": "code",
      "metadata": {
        "id": "hTt0Jv6OgVzL",
        "outputId": "c3603da5-d783-436c-a377-cfcb8c5d7f43",
        "colab": {
          "base_uri": "https://localhost:8080/",
          "height": 112
        }
      },
      "source": [
        "Image('/content/drive/My Drive/Rossmann Sales Forecasting/Basic features score.png')"
      ],
      "execution_count": null,
      "outputs": [
        {
          "output_type": "execute_result",
          "data": {
            "image/png": "[encoded data removed]",
            "text/plain": [
              "<IPython.core.display.Image object>"
            ]
          },
          "metadata": {
            "tags": []
          },
          "execution_count": 18
        }
      ]
    },
    {
      "cell_type": "markdown",
      "metadata": {
        "id": "hILRpRhCNLbc"
      },
      "source": [
        "*Note: I will use above score to check the effects of new features being added or reomved."
      ]
    },
    {
      "cell_type": "markdown",
      "metadata": {
        "id": "Q4HvjaemkSBS"
      },
      "source": [
        "# Models after selecting features using forward selection method."
      ]
    },
    {
      "cell_type": "markdown",
      "metadata": {
        "id": "TdvPxafj9e3m"
      },
      "source": [
        "In this section I have used features after doing forward selection on the above base model created. In forward selection we add a new feature and check whether it improves the performance or degrades it. The features which improve the performance are kept and others are discarded.\n",
        "\n",
        "As the process is very lenghty and time consuming I have not included forward feature selection process here, and used the selected features directly."
      ]
    },
    {
      "cell_type": "code",
      "metadata": {
        "id": "hJm3Ypm4kSBY"
      },
      "source": [
        "base_X = X[['Store', 'DayOfWeek', 'Promo','StateHoliday', 'SchoolHoliday','StoreType', 'Assortment', 'CompetitionDistance',\n",
        "            'CompetitionOpenSinceMonth', 'CompetitionOpenSinceYear', 'Promo2', 'Promo2SinceWeek', 'Promo2SinceYear', 'Year',\n",
        "            'Month', 'Day', 'WeekOfYear', 'DayOfYear',  'SalesPerDay', 'Customers_per_day', 'Sales_Per_Customers_Per_Day', \n",
        "            'PromoInterval0', 'PromoInterval1', 'PromoInterval2', 'PromoInterval3','Acceleration','State','Promo_before_days',\n",
        "            'Promo_after_days','Frequency_2', 'Frequency_3', 'Amplitude_2','Amplitude_3','Mean_TemperatureC','Events']]\n",
        "\n",
        "y = df_1['Sales']"
      ],
      "execution_count": null,
      "outputs": []
    },
    {
      "cell_type": "code",
      "metadata": {
        "id": "7_TBZs0dkSBb"
      },
      "source": [
        "base_df = pd.concat([base_X,y], axis=1)"
      ],
      "execution_count": null,
      "outputs": []
    },
    {
      "cell_type": "code",
      "metadata": {
        "id": "EOzr5blZkSBe"
      },
      "source": [
        "base_submit = df_submit[['Store', 'DayOfWeek', 'Promo','StateHoliday', 'SchoolHoliday','StoreType', 'Assortment', 'CompetitionDistance',\n",
        "            'CompetitionOpenSinceMonth', 'CompetitionOpenSinceYear', 'Promo2', 'Promo2SinceWeek', 'Promo2SinceYear', 'Year',\n",
        "            'Month', 'Day', 'WeekOfYear', 'DayOfYear',  'SalesPerDay', 'Customers_per_day', 'Sales_Per_Customers_Per_Day', \n",
        "            'PromoInterval0', 'PromoInterval1', 'PromoInterval2', 'PromoInterval3','Acceleration','State','Promo_before_days', \n",
        "            'Promo_after_days','Frequency_2', 'Frequency_3', 'Amplitude_2','Amplitude_3','Mean_TemperatureC','Events']]"
      ],
      "execution_count": null,
      "outputs": []
    },
    {
      "cell_type": "code",
      "metadata": {
        "id": "GME9kAC6kSBh"
      },
      "source": [
        "cat_cols = ['StoreType','Assortment','StateHoliday','DayOfWeek','Promo','Year','Promo2','State','Events']\n",
        "num_cols = [i for i in base_X.columns if i not in cat_cols]\n",
        "\n",
        "num_transformer = Pipeline(steps = [('imp', IterativeImputer(initial_strategy='median')),\n",
        "                                    ('scaler', StandardScaler())])\n",
        "\n",
        "cat_transformer = Pipeline(steps = [('imp', SimpleImputer(strategy='most_frequent')),\n",
        "                                    ('onehot', OneHotEncoder(handle_unknown='ignore'))])\n",
        "\n",
        "preprocessor = ColumnTransformer(transformers=[('num', num_transformer,num_cols),\n",
        "                                               ('cat',cat_transformer,cat_cols)])                                    "
      ],
      "execution_count": null,
      "outputs": []
    },
    {
      "cell_type": "code",
      "metadata": {
        "id": "dU2LkRnFkSBl",
        "outputId": "44744bd1-4bd7-42fb-d947-b9340001fe72",
        "colab": {
          "base_uri": "https://localhost:8080/",
          "height": 561
        }
      },
      "source": [
        "# preprocessor.fit(base_X)\n",
        "# pickle.dump(preprocessor, open('/content/drive/My Drive/Rossmann Sales Forecasting/preprocessor_base.pkl','wb'))"
      ],
      "execution_count": null,
      "outputs": [
        {
          "output_type": "execute_result",
          "data": {
            "text/plain": [
              "ColumnTransformer(n_jobs=None, remainder='drop', sparse_threshold=0.3,\n",
              "                  transformer_weights=None,\n",
              "                  transformers=[('num',\n",
              "                                 Pipeline(memory=None,\n",
              "                                          steps=[('imp',\n",
              "                                                  IterativeImputer(add_indicator=False,\n",
              "                                                                   estimator=None,\n",
              "                                                                   imputation_order='ascending',\n",
              "                                                                   initial_strategy='median',\n",
              "                                                                   max_iter=10,\n",
              "                                                                   max_value=None,\n",
              "                                                                   min_value=None,\n",
              "                                                                   missing_values=nan,\n",
              "                                                                   n_nearest_features=None,\n",
              "                                                                   random_st...\n",
              "                                                  SimpleImputer(add_indicator=False,\n",
              "                                                                copy=True,\n",
              "                                                                fill_value=None,\n",
              "                                                                missing_values=nan,\n",
              "                                                                strategy='most_frequent',\n",
              "                                                                verbose=0)),\n",
              "                                                 ('onehot',\n",
              "                                                  OneHotEncoder(categories='auto',\n",
              "                                                                drop=None,\n",
              "                                                                dtype=<class 'numpy.float64'>,\n",
              "                                                                handle_unknown='ignore',\n",
              "                                                                sparse=True))],\n",
              "                                          verbose=False),\n",
              "                                 ['StoreType', 'Assortment', 'StateHoliday',\n",
              "                                  'DayOfWeek', 'Promo', 'Year', 'Promo2',\n",
              "                                  'State', 'Events'])],\n",
              "                  verbose=False)"
            ]
          },
          "metadata": {
            "tags": []
          },
          "execution_count": 23
        }
      ]
    },
    {
      "cell_type": "code",
      "metadata": {
        "id": "gqURJLOAkSBo"
      },
      "source": [
        "preprocessor = pickle.load(open('/content/drive/My Drive/Rossmann Sales Forecasting/preprocessor_base.pkl','rb'))"
      ],
      "execution_count": null,
      "outputs": []
    },
    {
      "cell_type": "code",
      "metadata": {
        "id": "UuZUvCtbkSBt"
      },
      "source": [
        "X_transformed = preprocessor.transform(base_X)\n",
        "x_submit = preprocessor.transform(base_submit)"
      ],
      "execution_count": null,
      "outputs": []
    },
    {
      "cell_type": "code",
      "metadata": {
        "id": "0W_XDWJ4kSBx"
      },
      "source": [
        "from sklearn.model_selection import train_test_split"
      ],
      "execution_count": null,
      "outputs": []
    },
    {
      "cell_type": "code",
      "metadata": {
        "id": "FXDW2ihCkSBz"
      },
      "source": [
        "X_train, X_test, y_train, y_test = train_test_split(X_transformed, y, shuffle=False, random_state=21, test_size=0.2)"
      ],
      "execution_count": null,
      "outputs": []
    },
    {
      "cell_type": "markdown",
      "metadata": {
        "id": "S_K5pMTJDSxq"
      },
      "source": [
        "## SGD Regressor."
      ]
    },
    {
      "cell_type": "code",
      "metadata": {
        "id": "sU7EZWcD_Z97",
        "outputId": "9ab127a1-79f3-4e15-b8e1-2482476be41f",
        "colab": {
          "base_uri": "https://localhost:8080/"
        }
      },
      "source": [
        "model = SGDRegressor(eta0=0.1,fit_intercept=False, shuffle=False,learning_rate='adaptive',random_state=21,)\n",
        "\n",
        "model.fit(X_train, y_train)\n",
        "\n",
        "train_preds = model.predict(X_train)\n",
        "preds = model.predict(X_test)\n",
        "preds"
      ],
      "execution_count": null,
      "outputs": [
        {
          "output_type": "execute_result",
          "data": {
            "text/plain": [
              "array([ 6735.38384189,  9017.67824655,  5248.60549971, ...,\n",
              "        5990.3509813 , 12432.40525496, 21491.14049635])"
            ]
          },
          "metadata": {
            "tags": []
          },
          "execution_count": 39
        }
      ]
    },
    {
      "cell_type": "code",
      "metadata": {
        "id": "FA3eCz7_VyaO",
        "outputId": "0c135561-25b0-4473-af70-e0e6cbf75a08",
        "colab": {
          "base_uri": "https://localhost:8080/"
        }
      },
      "source": [
        "print(f'Metric score on train set is {rmspe(y_train, train_preds)}.')\n",
        "print(f'Metric score on test set is {rmspe(y_test, preds)}.')"
      ],
      "execution_count": null,
      "outputs": [
        {
          "output_type": "stream",
          "text": [
            "Metric score on train set is 0.299682946002019.\n",
            "Metric score on test set is 0.25067387932230534.\n"
          ],
          "name": "stdout"
        }
      ]
    },
    {
      "cell_type": "code",
      "metadata": {
        "id": "3Dpmj_POunLH",
        "outputId": "8be476e2-3b46-407a-e656-7e79e781b462",
        "colab": {
          "base_uri": "https://localhost:8080/"
        }
      },
      "source": [
        "model.fit(X_transformed,y)"
      ],
      "execution_count": null,
      "outputs": [
        {
          "output_type": "execute_result",
          "data": {
            "text/plain": [
              "SGDRegressor(alpha=0.0001, average=False, early_stopping=False, epsilon=0.1,\n",
              "             eta0=0.1, fit_intercept=False, l1_ratio=0.15,\n",
              "             learning_rate='adaptive', loss='squared_loss', max_iter=1000,\n",
              "             n_iter_no_change=5, penalty='l2', power_t=0.25, random_state=21,\n",
              "             shuffle=False, tol=0.001, validation_fraction=0.1, verbose=0,\n",
              "             warm_start=False)"
            ]
          },
          "metadata": {
            "tags": []
          },
          "execution_count": 41
        }
      ]
    },
    {
      "cell_type": "code",
      "metadata": {
        "id": "_5l0R9cP7WhP"
      },
      "source": [
        "submit_preds = model.predict(x_submit)"
      ],
      "execution_count": null,
      "outputs": []
    },
    {
      "cell_type": "code",
      "metadata": {
        "id": "K7VfkDTA7E1z"
      },
      "source": [
        "#Defining a new dataframe to contain the predictions according to the IDs.\n",
        "df_ypred = pd.DataFrame()\n",
        "df_ypred['Id'] = ids\n",
        "\n",
        "# Scale back the log of sales to sales.\n",
        "df_ypred['Sales'] = submit_preds * 0.983 # 0.983 is a correction factor.\n",
        "\n",
        "for i in range(len(df_ypred)):\n",
        "\n",
        "    id = df_ypred.iloc[i]['Id']\n",
        "    if id in closed_test_ids or b:\n",
        "        df_ypred.iloc[i]['Sales'] = 0\n",
        "    else:\n",
        "        continue\n",
        "\n",
        "#Sorting values according to ID\n",
        "df_ypred.sort_values('Id', inplace=True)\n",
        "df_ypred[['Id', 'Sales']].to_csv('rossmann_sgd_selected_features.csv', index=False)"
      ],
      "execution_count": null,
      "outputs": []
    },
    {
      "cell_type": "code",
      "metadata": {
        "id": "PJIWv-bN8EGL",
        "outputId": "9c23968c-8f86-4185-f5e2-961fccdddfa3",
        "colab": {
          "base_uri": "https://localhost:8080/",
          "height": 166
        }
      },
      "source": [
        "Image('/content/drive/My Drive/Rossmann Sales Forecasting/sgd regressor with selected features.png')"
      ],
      "execution_count": null,
      "outputs": [
        {
          "output_type": "execute_result",
          "data": {
            "image/png": "[encoded data removed]",
            "text/plain": [
              "<IPython.core.display.Image object>"
            ]
          },
          "metadata": {
            "tags": []
          },
          "execution_count": 50
        }
      ]
    },
    {
      "cell_type": "markdown",
      "metadata": {
        "id": "mo2iIPDOVzny"
      },
      "source": [
        "## Decision Tree Regressor.\n"
      ]
    },
    {
      "cell_type": "code",
      "metadata": {
        "id": "dVwAnEkqKLND",
        "outputId": "a82e9c5b-549e-4d99-f03f-06d8fba0be80",
        "colab": {
          "base_uri": "https://localhost:8080/"
        }
      },
      "source": [
        "model = DecisionTreeRegressor(splitter='random', max_depth=16, random_state=21)\n",
        "model.fit(X_train, y_train)"
      ],
      "execution_count": null,
      "outputs": [
        {
          "output_type": "execute_result",
          "data": {
            "text/plain": [
              "DecisionTreeRegressor(ccp_alpha=0.0, criterion='mse', max_depth=16,\n",
              "                      max_features=None, max_leaf_nodes=None,\n",
              "                      min_impurity_decrease=0.0, min_impurity_split=None,\n",
              "                      min_samples_leaf=1, min_samples_split=2,\n",
              "                      min_weight_fraction_leaf=0.0, presort='deprecated',\n",
              "                      random_state=21, splitter='random')"
            ]
          },
          "metadata": {
            "tags": []
          },
          "execution_count": 37
        }
      ]
    },
    {
      "cell_type": "code",
      "metadata": {
        "id": "vahRc1F4DZwR",
        "outputId": "2bfa00b5-e0e9-4b0f-eec8-d4f463457c73",
        "colab": {
          "base_uri": "https://localhost:8080/"
        }
      },
      "source": [
        "train_preds = model.predict(X_train)\n",
        "preds = model.predict(X_test)\n",
        "\n",
        "print(f'Train score is {rmspe(y_train, train_preds)}.')\n",
        "print(f'Test score is {rmspe(y_test, preds)}.')"
      ],
      "execution_count": null,
      "outputs": [
        {
          "output_type": "stream",
          "text": [
            "Train score is 0.16730025064221918.\n",
            "Test score is 0.17678558832884747.\n"
          ],
          "name": "stdout"
        }
      ]
    },
    {
      "cell_type": "code",
      "metadata": {
        "id": "XZqlRSwWdmmY",
        "outputId": "63a0663f-7bc7-44cd-d760-fe9c7cbe4f78",
        "colab": {
          "base_uri": "https://localhost:8080/"
        }
      },
      "source": [
        "model.fit(X_transformed, y)"
      ],
      "execution_count": null,
      "outputs": [
        {
          "output_type": "execute_result",
          "data": {
            "text/plain": [
              "DecisionTreeRegressor(ccp_alpha=0.0, criterion='mse', max_depth=16,\n",
              "                      max_features=None, max_leaf_nodes=None,\n",
              "                      min_impurity_decrease=0.0, min_impurity_split=None,\n",
              "                      min_samples_leaf=1, min_samples_split=2,\n",
              "                      min_weight_fraction_leaf=0.0, presort='deprecated',\n",
              "                      random_state=21, splitter='random')"
            ]
          },
          "metadata": {
            "tags": []
          },
          "execution_count": 39
        }
      ]
    },
    {
      "cell_type": "code",
      "metadata": {
        "id": "mk22HBW79HoY",
        "outputId": "9da47b3a-9276-47ff-b6ad-e05fea07c776",
        "colab": {
          "base_uri": "https://localhost:8080/"
        }
      },
      "source": [
        "submit_preds = model.predict(x_submit)\n",
        "submit_preds"
      ],
      "execution_count": null,
      "outputs": [
        {
          "output_type": "execute_result",
          "data": {
            "text/plain": [
              "array([ 4078.        ,  5277.28813559,  8767.38647343, ...,\n",
              "       11529.        ,  6025.        , 21911.11111111])"
            ]
          },
          "metadata": {
            "tags": []
          },
          "execution_count": 42
        }
      ]
    },
    {
      "cell_type": "code",
      "metadata": {
        "id": "vQ1GG_PH9NO6"
      },
      "source": [
        "#Defining a new dataframe to contain the predictions according to the IDs.\n",
        "df_ypred = pd.DataFrame()\n",
        "df_ypred['Id'] = ids\n",
        "\n",
        "# Scale back the log of sales to sales.\n",
        "df_ypred['Sales'] = submit_preds * 0.983 # 0.983 is a correction factor.\n",
        "\n",
        "for i in range(len(df_ypred)):\n",
        "\n",
        "    id = df_ypred.iloc[i]['Id']\n",
        "    if id in closed_test_ids or b:\n",
        "        df_ypred.iloc[i]['Sales'] = 0\n",
        "    else:\n",
        "        continue\n",
        "\n",
        "#Sorting values according to ID\n",
        "df_ypred.sort_values('Id', inplace=True)\n",
        "df_ypred[['Id', 'Sales']].to_csv('rossmann_dt_selected_features.csv', index=False)"
      ],
      "execution_count": null,
      "outputs": []
    },
    {
      "cell_type": "code",
      "metadata": {
        "id": "dVNn3LLK99F9",
        "outputId": "a689fc97-b704-4999-f37a-95cbf25fa80d",
        "colab": {
          "base_uri": "https://localhost:8080/",
          "height": 167
        }
      },
      "source": [
        "Image('/content/drive/My Drive/Rossmann Sales Forecasting/dt selected features.png')"
      ],
      "execution_count": null,
      "outputs": [
        {
          "output_type": "execute_result",
          "data": {
            "image/png": "[encoded data removed]",
            "text/plain": [
              "<IPython.core.display.Image object>"
            ]
          },
          "metadata": {
            "tags": []
          },
          "execution_count": 44
        }
      ]
    },
    {
      "cell_type": "markdown",
      "metadata": {
        "id": "GeR2WEteJQNL"
      },
      "source": [
        "## Random Forest model."
      ]
    },
    {
      "cell_type": "code",
      "metadata": {
        "id": "1AKu9A-6FkOe",
        "outputId": "7f29ecfa-8049-4c79-a180-c768d55bde82",
        "colab": {
          "base_uri": "https://localhost:8080/"
        }
      },
      "source": [
        "from sklearn.ensemble import RandomForestRegressor\n",
        "\n",
        "model = RandomForestRegressor(n_estimators=300, max_depth=17, n_jobs=-1, random_state=21)\n",
        "model.fit(X_train, y_train)"
      ],
      "execution_count": null,
      "outputs": [
        {
          "output_type": "execute_result",
          "data": {
            "text/plain": [
              "RandomForestRegressor(bootstrap=True, ccp_alpha=0.0, criterion='mse',\n",
              "                      max_depth=17, max_features='auto', max_leaf_nodes=None,\n",
              "                      max_samples=None, min_impurity_decrease=0.0,\n",
              "                      min_impurity_split=None, min_samples_leaf=1,\n",
              "                      min_samples_split=2, min_weight_fraction_leaf=0.0,\n",
              "                      n_estimators=300, n_jobs=-1, oob_score=False,\n",
              "                      random_state=21, verbose=0, warm_start=False)"
            ]
          },
          "metadata": {
            "tags": []
          },
          "execution_count": 27
        }
      ]
    },
    {
      "cell_type": "code",
      "metadata": {
        "id": "PSCroKqyKOu5",
        "outputId": "42a14781-afeb-44eb-9b80-155dff1c7a61",
        "colab": {
          "base_uri": "https://localhost:8080/"
        }
      },
      "source": [
        "train_preds = model.predict(X_train)\n",
        "rmspe(y_train,train_preds)"
      ],
      "execution_count": null,
      "outputs": [
        {
          "output_type": "execute_result",
          "data": {
            "text/plain": [
              "0.14903796086841575"
            ]
          },
          "metadata": {
            "tags": []
          },
          "execution_count": 28
        }
      ]
    },
    {
      "cell_type": "code",
      "metadata": {
        "id": "HRZHcRZrKQya",
        "outputId": "cba9ea42-dd58-43d7-b8a9-801731434872",
        "colab": {
          "base_uri": "https://localhost:8080/"
        }
      },
      "source": [
        "preds = model.predict(X_test)\n",
        "rmspe(y_test, preds)"
      ],
      "execution_count": null,
      "outputs": [
        {
          "output_type": "execute_result",
          "data": {
            "text/plain": [
              "0.16421245580976052"
            ]
          },
          "metadata": {
            "tags": []
          },
          "execution_count": 29
        }
      ]
    },
    {
      "cell_type": "code",
      "metadata": {
        "id": "1nveyw7Qy3tB",
        "outputId": "02bf93b5-c943-4965-bb8f-23f7f5bc11f5",
        "colab": {
          "base_uri": "https://localhost:8080/"
        }
      },
      "source": [
        "model.fit(X_transformed, y)"
      ],
      "execution_count": null,
      "outputs": [
        {
          "output_type": "execute_result",
          "data": {
            "text/plain": [
              "RandomForestRegressor(bootstrap=True, ccp_alpha=0.0, criterion='mse',\n",
              "                      max_depth=17, max_features='auto', max_leaf_nodes=None,\n",
              "                      max_samples=None, min_impurity_decrease=0.0,\n",
              "                      min_impurity_split=None, min_samples_leaf=1,\n",
              "                      min_samples_split=2, min_weight_fraction_leaf=0.0,\n",
              "                      n_estimators=300, n_jobs=-1, oob_score=False,\n",
              "                      random_state=21, verbose=0, warm_start=False)"
            ]
          },
          "metadata": {
            "tags": []
          },
          "execution_count": 30
        }
      ]
    },
    {
      "cell_type": "code",
      "metadata": {
        "id": "NlGafVqAFkLh"
      },
      "source": [
        "preds = model.predict(x_submit)"
      ],
      "execution_count": null,
      "outputs": []
    },
    {
      "cell_type": "code",
      "metadata": {
        "id": "-tY6j6UpFkIv"
      },
      "source": [
        "#Defining a new dataframe to contain the predictions according to the IDs.\n",
        "df_ypred = pd.DataFrame()\n",
        "df_ypred['Id'] = ids\n",
        "\n",
        "# Scale back the log of sales to sales.\n",
        "df_ypred['Sales'] = preds  * 0.983 #Correction factor.\n",
        "\n",
        "for i in range(len(df_ypred)):\n",
        "\n",
        "    id = df_ypred.iloc[i]['Id']\n",
        "    if id in closed_test_ids or b:\n",
        "        df_ypred.iloc[i]['Sales'] = 0\n",
        "    else:\n",
        "        continue\n",
        "\n",
        "#Sorting values according to ID\n",
        "df_ypred.sort_values('Id', inplace=True)\n",
        "df_ypred[['Id', 'Sales']].to_csv('rossmann_RF_with correction.csv', index=False)"
      ],
      "execution_count": null,
      "outputs": []
    },
    {
      "cell_type": "code",
      "metadata": {
        "id": "Kp0bCU4MsXvk",
        "outputId": "570b3529-53c3-4273-b839-fef462b58508",
        "colab": {
          "base_uri": "https://localhost:8080/",
          "height": 167
        }
      },
      "source": [
        "Image('/content/drive/My Drive/Rossmann Sales Forecasting/rf model with selected features after correction.png')"
      ],
      "execution_count": null,
      "outputs": [
        {
          "output_type": "execute_result",
          "data": {
            "image/png": "[encoded data removed]",
            "text/plain": [
              "<IPython.core.display.Image object>"
            ]
          },
          "metadata": {
            "tags": []
          },
          "execution_count": 34
        }
      ]
    },
    {
      "cell_type": "markdown",
      "metadata": {
        "id": "iaqxrGONJVID"
      },
      "source": [
        "## Light GBM model."
      ]
    },
    {
      "cell_type": "code",
      "metadata": {
        "id": "Yoa_4pQbJAwA"
      },
      "source": [
        "#Training with best parameters.\n",
        "base_lgb_model = lgb.LGBMRegressor(n_leaves=50,\n",
        "                               n_estimators=700, \n",
        "                               max_depth=-1,  \n",
        "                               learning_rate=0.3, #0.1\n",
        "                               subsample=1,\n",
        "                               colsample_bytree=0.8,\n",
        "                               reg_alpha=0.1,\n",
        "                               reg_lambda=1)\n",
        "\n",
        "base_lgb_model.fit(X_train, y_train)\n",
        "\n",
        "train_preds = base_lgb_model.predict(X_train)\n",
        "preds = base_lgb_model.predict(X_test)"
      ],
      "execution_count": null,
      "outputs": []
    },
    {
      "cell_type": "code",
      "metadata": {
        "id": "6sd9bWDZxY6G",
        "outputId": "7ebeb42b-0030-4160-de75-51f0e50440f1",
        "colab": {
          "base_uri": "https://localhost:8080/"
        }
      },
      "source": [
        "print(f'Metric score on train set is {rmspe(y_train, train_preds)}.')\n",
        "print(f'Metric score on test set is {rmspe(y_test, preds)}.')"
      ],
      "execution_count": null,
      "outputs": [
        {
          "output_type": "stream",
          "text": [
            "Metric score on train set is 0.16040787793729777.\n",
            "Metric score on test set is 0.15714817228064962.\n"
          ],
          "name": "stdout"
        }
      ]
    },
    {
      "cell_type": "code",
      "metadata": {
        "id": "B-GakWz2zyNq",
        "outputId": "58e6dd5d-8dde-4d46-fc28-07930463c902",
        "colab": {
          "base_uri": "https://localhost:8080/",
          "height": 136
        }
      },
      "source": [
        "base_lgb_model.fit(X_transformed,y)"
      ],
      "execution_count": null,
      "outputs": [
        {
          "output_type": "execute_result",
          "data": {
            "text/plain": [
              "LGBMRegressor(boosting_type='gbdt', class_weight=None, colsample_bytree=0.8,\n",
              "              importance_type='split', learning_rate=0.3, max_depth=-1,\n",
              "              min_child_samples=20, min_child_weight=0.001, min_split_gain=0.0,\n",
              "              n_estimators=700, n_jobs=-1, n_leaves=50, num_leaves=31,\n",
              "              objective=None, random_state=None, reg_alpha=0.1, reg_lambda=1,\n",
              "              silent=True, subsample=1, subsample_for_bin=200000,\n",
              "              subsample_freq=0)"
            ]
          },
          "metadata": {
            "tags": []
          },
          "execution_count": 30
        }
      ]
    },
    {
      "cell_type": "code",
      "metadata": {
        "id": "LoEKgg5ZHU_S",
        "outputId": "bb10540f-0a6b-4abf-a219-43bce13164d1",
        "colab": {
          "base_uri": "https://localhost:8080/",
          "height": 34
        }
      },
      "source": [
        "# joblib.dump(base_lgb_model, '/content/drive/My Drive/Rossmann Sales Forecasting/lgb_model.pkl')"
      ],
      "execution_count": null,
      "outputs": [
        {
          "output_type": "execute_result",
          "data": {
            "text/plain": [
              "['/content/drive/My Drive/Rossmann Sales Forecasting/lgb_model.pkl']"
            ]
          },
          "metadata": {
            "tags": []
          },
          "execution_count": 32
        }
      ]
    },
    {
      "cell_type": "code",
      "metadata": {
        "id": "pKA4Jbz3JqhD"
      },
      "source": [
        "preds = base_lgb_model.predict(x_submit)\n",
        "#Defining a new dataframe to contain the predictions according to the IDs.\n",
        "df_ypred = pd.DataFrame()\n",
        "df_ypred['Id'] = ids\n",
        "\n",
        "# Scale back the log of sales to sales.\n",
        "df_ypred['Sales'] = preds * 0.983 #Correction factor.\n",
        "\n",
        "for i in range(len(df_ypred)):\n",
        "\n",
        "    id = df_ypred.iloc[i]['Id']\n",
        "    if id in closed_test_ids or b:\n",
        "        df_ypred.iloc[i]['Sales'] = 0\n",
        "    else:\n",
        "        continue\n",
        "\n",
        "#Sorting values according to ID\n",
        "df_ypred.sort_values('Id', inplace=True)\n",
        "df_ypred[['Id', 'Sales']].to_csv('rossmann_lgb_selected_features.csv', index=False)"
      ],
      "execution_count": null,
      "outputs": []
    },
    {
      "cell_type": "code",
      "metadata": {
        "id": "aJCn3c8p0g6b",
        "outputId": "6ac49b7a-dc17-4852-c109-730eebfab414",
        "colab": {
          "base_uri": "https://localhost:8080/",
          "height": 167
        }
      },
      "source": [
        "Image('/content/drive/My Drive/Rossmann Sales Forecasting/lgb selected features..png')"
      ],
      "execution_count": null,
      "outputs": [
        {
          "output_type": "execute_result",
          "data": {
            "image/png": "[encoded data removed]",
            "text/plain": [
              "<IPython.core.display.Image object>"
            ]
          },
          "metadata": {
            "tags": []
          },
          "execution_count": 63
        }
      ]
    },
    {
      "cell_type": "markdown",
      "metadata": {
        "id": "HLluEcFaeEJH"
      },
      "source": [
        "## Meta Learning."
      ]
    },
    {
      "cell_type": "markdown",
      "metadata": {
        "id": "NHZb7glCV_qP"
      },
      "source": [
        "1. Divide data into 80-20 split.\n",
        "\n",
        "2. Divide the train part into 2 parts, D1 and D2.\n",
        "\n",
        "3. Take 9 samples from D1 and train Decision tree(shallow, medium and deep), Random Forest(shallow, medium and deep) and LightGBM(shallow, medium and deep).\n",
        "\n",
        "4. Predict D2 from these 9 models. Use these 9 predictions as features and D2 y_original as output to train a new model.\n",
        "\n",
        "5. Now for the test set, predict it using 9 models and using 9 predictions as features pass it to meta model. Use prediction from meta model as final prediction."
      ]
    },
    {
      "cell_type": "code",
      "metadata": {
        "id": "vjF9JkiyKb5v"
      },
      "source": [
        "#Splitting data into 80:20 ratio.\n",
        "split = int(len(base_df) * 0.8)\n",
        "\n",
        "dtrain = base_df[:split]\n",
        "dtest = base_df[split:]"
      ],
      "execution_count": null,
      "outputs": []
    },
    {
      "cell_type": "code",
      "metadata": {
        "id": "CGv3w9MlOsIQ"
      },
      "source": [
        "def create_meta_model(n_estimators, dataset, fraction, preprocessor):\n",
        "    '''\n",
        "    This function will perform meta learning on the given dataset. It will return\n",
        "    a final meta model which can be used to predict for future values. \n",
        "    -----------------------------------------------------------------------------\n",
        "    n_estimators: No. of estimators to use while creating models on first half.\n",
        "\n",
        "    dataset: Dataset on which to perform meta learning.\n",
        "\n",
        "    fraction: Fraction of dataset to be used by the estimators.\n",
        "\n",
        "    preprocessor: Pipeline to preprocess data such that data can be fed into a model.\n",
        "    -----------------------------------------------------------------------------\n",
        "\n",
        "    Here Random forest model will be used as a estimator. It's parameters will be\n",
        "    chosen at random. \n",
        "    '''\n",
        "\n",
        "    #Splitting train data into 2 equal parts.\n",
        "    half = int(len(dataset) * 0.5)\n",
        "    d1 = dataset[:half]\n",
        "    d2 = dataset[half:]\n",
        "\n",
        "    #Preparing d2 dataset.\n",
        "    d2_x = d2.drop(['Sales'], axis=1)\n",
        "    d2_x = preprocessor.transform(d2_x)\n",
        "    d2_y = d2['Sales']\n",
        "\n",
        "    #List to store samples.\n",
        "    samples_list = []\n",
        "    for i in range(n_estimators):\n",
        "        new_sample = d1.sample(frac=fraction, random_state=21)\n",
        "        new_sample.sort_values(['Year','Day'], inplace=True)\n",
        "        samples_list.append(new_sample)\n",
        "    \n",
        "    #Dictionary to store predictions on d2 from every estimator.\n",
        "    data_dict = dict()\n",
        "    data_dict['output'] = d2_y\n",
        "\n",
        "    #List to store models.\n",
        "    models_list = []\n",
        "    for i in range(len(samples_list)):\n",
        "        #Preparing data to be fed into the model.\n",
        "        x = samples_list[i].drop(['Sales'], axis=1)\n",
        "        x = preprocessor.transform(x)\n",
        "        y = samples_list[i]['Sales']\n",
        "\n",
        "        model = RandomForestRegressor(n_estimators=200, max_depth=17, n_jobs=-1, random_state=21)\n",
        "        model.fit(x,y)\n",
        "\n",
        "        models_list.append(model)\n",
        "        pred = model.predict(d2_x)\n",
        "\n",
        "        #Adding prediction to data dictionary.\n",
        "        data_dict[i] = pred\n",
        "\n",
        "        print(f'{i+1} estimators done.')\n",
        "\n",
        "    #Creating dataframe using the data_dict.\n",
        "    meta_df = pd.DataFrame(data_dict)\n",
        "    meta_x = meta_df.drop('output', axis=1)\n",
        "    meta_y = meta_df['output']\n",
        "    \n",
        "    meta_model = RandomForestRegressor(n_jobs=-1, random_state=21, max_depth=20)\n",
        "    meta_model.fit(meta_x.values, meta_y)\n",
        "\n",
        "    return models_list, meta_model\n",
        "\n",
        "def predict(models_list, meta_model, dataset):\n",
        "    '''\n",
        "    This model will give predictions ussing meta_model.\n",
        "    ----------------------------------------------------\n",
        "    models_list: List containing all the models used during meta learning.\n",
        "\n",
        "    meta_model: Final model from meta learning.\n",
        "\n",
        "    dataset: Preprocessed dataset to be used for prediction.\n",
        "\n",
        "    preprocessor: Pipeline used during training to preprocess data.\n",
        "    '''\n",
        "    data_dict = dict()\n",
        "    for i in range(len(models_list)):\n",
        "        pred = models_list[i].predict(dataset)\n",
        "        data_dict[i] = pred\n",
        "\n",
        "    df = pd.DataFrame(data_dict)\n",
        "    x = df.values\n",
        "\n",
        "    preds = meta_model.predict(x)\n",
        "\n",
        "    return preds"
      ],
      "execution_count": null,
      "outputs": []
    },
    {
      "cell_type": "markdown",
      "metadata": {
        "id": "GRsWzoGE9eGq"
      },
      "source": [
        "### Stacking with 9 models."
      ]
    },
    {
      "cell_type": "code",
      "metadata": {
        "id": "tOuLXMDa9da0",
        "outputId": "a86a97d8-79fa-46bf-da5f-5d90f7bf4e31",
        "colab": {
          "base_uri": "https://localhost:8080/",
          "height": 170
        }
      },
      "source": [
        "models_list, meta_model = create_meta_model(9, dtrain, 0.5, preprocessor=preprocessor)"
      ],
      "execution_count": null,
      "outputs": [
        {
          "output_type": "stream",
          "text": [
            "1 estimators done.\n",
            "2 estimators done.\n",
            "3 estimators done.\n",
            "4 estimators done.\n",
            "5 estimators done.\n",
            "6 estimators done.\n",
            "7 estimators done.\n",
            "8 estimators done.\n",
            "9 estimators done.\n"
          ],
          "name": "stdout"
        }
      ]
    },
    {
      "cell_type": "code",
      "metadata": {
        "id": "0ZMzdfvDKjpD",
        "outputId": "4fb5e01c-78a6-4466-c362-a9751f8baf93",
        "colab": {
          "base_uri": "https://localhost:8080/",
          "height": 51
        }
      },
      "source": [
        "x_train = preprocessor.transform(dtrain.drop('Sales', axis=1))\n",
        "y_train = dtrain['Sales'] \n",
        "\n",
        "x_test = preprocessor.transform(dtest.drop('Sales', axis=1))\n",
        "y_test = dtest['Sales']\n",
        "\n",
        "preds = predict(models_list=models_list, meta_model=meta_model, dataset=x_test)\n",
        "train_preds = predict(models_list=models_list, meta_model=meta_model, dataset=x_train)\n",
        "\n",
        "\n",
        "print(f'Train rmspe is {rmspe(y_train, train_preds)}.')\n",
        "print(f'Test rmspe is {rmspe(y_test, preds)}.')"
      ],
      "execution_count": null,
      "outputs": [
        {
          "output_type": "stream",
          "text": [
            "Train rmspe is 0.1888758897276091.\n",
            "Test rmspe is 0.19887634450872577.\n"
          ],
          "name": "stdout"
        }
      ]
    },
    {
      "cell_type": "code",
      "metadata": {
        "id": "qhBqB7RrIzE5"
      },
      "source": [
        "x_submit = preprocessor.transform(base_submit)"
      ],
      "execution_count": null,
      "outputs": []
    },
    {
      "cell_type": "code",
      "metadata": {
        "id": "LJF6PBZdO4hp"
      },
      "source": [
        "submit_preds = predict(models_list=models_list, meta_model=meta_model, dataset=x_submit)\n",
        "\n",
        "# Defining a new dataframe to contain the predictions according to the IDs.\n",
        "df_ypred = pd.DataFrame()\n",
        "df_ypred['Id'] = ids\n",
        "\n",
        "# Scale back the log of sales to sales.\n",
        "df_ypred['Sales'] = submit_preds * 0.983\n",
        "\n",
        "for i in range(len(df_ypred)):\n",
        "\n",
        "    id = df_ypred.iloc[i]['Id']\n",
        "    if id in closed_test_ids:\n",
        "        df_ypred.iloc[i]['Sales'] = 0\n",
        "    else:\n",
        "        continue\n",
        "\n",
        "#Sorting values according to ID\n",
        "df_ypred.sort_values('Id', inplace=True)\n",
        "\n",
        "#Saving the result as a CSV file.\n",
        "df_ypred[['Id', 'Sales']].to_csv('rossmann_stacked_9_selected_features.csv', index=False)"
      ],
      "execution_count": null,
      "outputs": []
    },
    {
      "cell_type": "code",
      "metadata": {
        "id": "BMiCLwh98Si5",
        "outputId": "ee377da0-f5cb-46e9-f0db-d678c7b8c989",
        "colab": {
          "base_uri": "https://localhost:8080/",
          "height": 168
        }
      },
      "source": [
        "Image('/content/drive/My Drive/Rossmann Sales Forecasting/stacked 9 model scores..png')"
      ],
      "execution_count": null,
      "outputs": [
        {
          "output_type": "execute_result",
          "data": {
            "image/png": "[encoded data removed]",
            "text/plain": [
              "<IPython.core.display.Image object>"
            ]
          },
          "metadata": {
            "tags": []
          },
          "execution_count": 2
        }
      ]
    },
    {
      "cell_type": "markdown",
      "metadata": {
        "id": "MKo0EL7hmYs4"
      },
      "source": [
        "#Conclusions:\n",
        "\n",
        "|Model | rmspe on test set | Kaggle private score|\n",
        "|------|---------------------|--------------------|\n",
        "|SGD Regressor|0.250|0.234\n",
        "|Decision Tree Regressor|0.1767|0.16442\n",
        "|Random Forest Regressor|0.164|0.139\n",
        "|Light GBM Regressor|0.157|0.121\n",
        "|Stacking with 9 models|0.1988|0.17375"
      ]
    },
    {
      "cell_type": "code",
      "metadata": {
        "id": "n5nwYE4zOiC-"
      },
      "source": [
        ""
      ],
      "execution_count": null,
      "outputs": []
    }
  ]
}